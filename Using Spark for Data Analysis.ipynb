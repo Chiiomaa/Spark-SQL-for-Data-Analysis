{
 "cells": [
  {
   "cell_type": "markdown",
   "id": "237eb575",
   "metadata": {},
   "source": [
    "# Name: Chioma Tagbo\n",
    "\n",
    "### Spark SQL Project\n",
    "##### 2nd October 2022"
   ]
  },
  {
   "cell_type": "code",
   "execution_count": 65,
   "id": "2d4ed087",
   "metadata": {},
   "outputs": [],
   "source": [
    "from pyspark.context import SparkContext\n",
    "from pyspark.sql.session import SparkSession\n",
    "sc = SparkContext.getOrCreate()\n",
    "spark = SparkSession(sc) "
   ]
  },
  {
   "cell_type": "code",
   "execution_count": 66,
   "id": "fab1f5e7",
   "metadata": {},
   "outputs": [],
   "source": [
    "from pyspark.sql.functions import *\n",
    "from pyspark.sql.types import *"
   ]
  },
  {
   "cell_type": "code",
   "execution_count": 67,
   "id": "ff38b5b4",
   "metadata": {},
   "outputs": [],
   "source": [
    "schema_train = StructType([StructField(\"id\",StringType(),True),\n",
    "                    StructField(\"week\",StringType(),True),\n",
    "                    StructField(\"center_id\",StringType(),True),\n",
    "                    StructField(\"meal_id\",StringType(),True),\n",
    "                    StructField(\"checkout_price\",DoubleType(),True),\n",
    "                    StructField(\"base_price\",DoubleType(),True),\n",
    "                    StructField(\"emailer_for_promotion\",StringType(),True),\n",
    "                    StructField(\"homepage_featured\",StringType(),True),\n",
    "                    StructField(\"num_orders\",IntegerType(),True)])"
   ]
  },
  {
   "cell_type": "code",
   "execution_count": 68,
   "id": "5cd17dd1",
   "metadata": {},
   "outputs": [],
   "source": [
    "schema_meal = StructType([StructField(\"meal_id\",StringType(),True),\n",
    "                    StructField(\"category\",StringType(),True),\n",
    "                    StructField(\"cuisine\",StringType(),True)])"
   ]
  },
  {
   "cell_type": "code",
   "execution_count": 69,
   "id": "4f30b6c4",
   "metadata": {},
   "outputs": [],
   "source": [
    "schema_fulfilment = StructType([StructField(\"center_id\",StringType(),True),\n",
    "                    StructField(\"city_code\",StringType(),True),\n",
    "                    StructField(\"region_code\",StringType(),True),\n",
    "                    StructField(\"center_type\",StringType(),True),\n",
    "                    StructField(\"op_area\",DoubleType(),True)])"
   ]
  },
  {
   "cell_type": "code",
   "execution_count": 70,
   "id": "c2ad75b2",
   "metadata": {},
   "outputs": [],
   "source": [
    "weekly_orders_info = spark.read.format('csv').option('header','True').schema(schema_train).load('Weekly_orders.csv')"
   ]
  },
  {
   "cell_type": "code",
   "execution_count": 71,
   "id": "20832c1c",
   "metadata": {},
   "outputs": [
    {
     "name": "stdout",
     "output_type": "stream",
     "text": [
      "root\n",
      " |-- id: string (nullable = true)\n",
      " |-- week: string (nullable = true)\n",
      " |-- center_id: string (nullable = true)\n",
      " |-- meal_id: string (nullable = true)\n",
      " |-- checkout_price: double (nullable = true)\n",
      " |-- base_price: double (nullable = true)\n",
      " |-- emailer_for_promotion: string (nullable = true)\n",
      " |-- homepage_featured: string (nullable = true)\n",
      " |-- num_orders: integer (nullable = true)\n",
      "\n"
     ]
    }
   ],
   "source": [
    "weekly_orders_info.printSchema()"
   ]
  },
  {
   "cell_type": "code",
   "execution_count": 72,
   "id": "9d2a24f1",
   "metadata": {},
   "outputs": [],
   "source": [
    "meal_data = spark.read.format('csv').option('header','True').schema(schema_meal).load('meal_info.csv')"
   ]
  },
  {
   "cell_type": "code",
   "execution_count": 73,
   "id": "ad929497",
   "metadata": {},
   "outputs": [
    {
     "name": "stdout",
     "output_type": "stream",
     "text": [
      "root\n",
      " |-- meal_id: string (nullable = true)\n",
      " |-- category: string (nullable = true)\n",
      " |-- cuisine: string (nullable = true)\n",
      "\n"
     ]
    }
   ],
   "source": [
    "meal_data.printSchema()"
   ]
  },
  {
   "cell_type": "code",
   "execution_count": 74,
   "id": "828eb07c",
   "metadata": {},
   "outputs": [],
   "source": [
    "fulfilment_center_data = spark.read.format('csv').option('header','True').schema(schema_fulfilment).load('fulfilment_center_info.csv')"
   ]
  },
  {
   "cell_type": "code",
   "execution_count": 75,
   "id": "47dc407c",
   "metadata": {},
   "outputs": [
    {
     "name": "stdout",
     "output_type": "stream",
     "text": [
      "root\n",
      " |-- center_id: string (nullable = true)\n",
      " |-- city_code: string (nullable = true)\n",
      " |-- region_code: string (nullable = true)\n",
      " |-- center_type: string (nullable = true)\n",
      " |-- op_area: double (nullable = true)\n",
      "\n"
     ]
    }
   ],
   "source": [
    "fulfilment_center_data.printSchema()"
   ]
  },
  {
   "cell_type": "markdown",
   "id": "f12390df",
   "metadata": {},
   "source": [
    "## Question 1\n",
    "What are the distinct number of meal categories and cuisines?"
   ]
  },
  {
   "cell_type": "code",
   "execution_count": 76,
   "id": "ab5975c4",
   "metadata": {},
   "outputs": [
    {
     "name": "stdout",
     "output_type": "stream",
     "text": [
      "+--------------+------------+\n",
      "|Category_count|Cusine_count|\n",
      "+--------------+------------+\n",
      "|            14|           4|\n",
      "+--------------+------------+\n",
      "\n"
     ]
    }
   ],
   "source": [
    "meal_data.createOrReplaceTempView(\"meal_table\") \n",
    "spark.sql(\"select count(distinct category) as Category_count, count(distinct cuisine) as Cusine_count from meal_table\").show()"
   ]
  },
  {
   "cell_type": "markdown",
   "id": "c2dc0c6d",
   "metadata": {},
   "source": [
    "## Question 2\n",
    " Which center_id has the highest num_orders?"
   ]
  },
  {
   "cell_type": "code",
   "execution_count": 77,
   "id": "b4a8ff92",
   "metadata": {},
   "outputs": [
    {
     "name": "stdout",
     "output_type": "stream",
     "text": [
      "+---------+------------+\n",
      "|center_id|Total_orders|\n",
      "+---------+------------+\n",
      "|       13|     1742220|\n",
      "+---------+------------+\n",
      "only showing top 1 row\n",
      "\n"
     ]
    }
   ],
   "source": [
    "weekly_orders_info.createOrReplaceTempView(\"orders_table\") \n",
    "spark.sql(\"select center_id, sum(num_orders) as Total_orders from orders_table group by center_id order by total_orders desc\").show(1)"
   ]
  },
  {
   "cell_type": "markdown",
   "id": "30245d93",
   "metadata": {},
   "source": [
    "## Question 3\n",
    "What is the top selling cuisine at the center_id that had the highest num_orders?"
   ]
  },
  {
   "cell_type": "code",
   "execution_count": 78,
   "id": "e1cb08c9",
   "metadata": {},
   "outputs": [
    {
     "name": "stdout",
     "output_type": "stream",
     "text": [
      "+-------+------------+\n",
      "|cuisine|Total_orders|\n",
      "+-------+------------+\n",
      "|   Thai|      654724|\n",
      "+-------+------------+\n",
      "only showing top 1 row\n",
      "\n"
     ]
    }
   ],
   "source": [
    "spark.sql(\"\"\"select b.cuisine, sum(a.num_orders) as Total_orders\n",
    "       from orders_table a\n",
    "       left join meal_table b\n",
    "       on a.meal_id = b.meal_id\n",
    "       where a.center_id = '13'\n",
    "       group by b.cuisine\n",
    "       order by Total_orders desc\"\"\").show(1)"
   ]
  },
  {
   "cell_type": "markdown",
   "id": "0f648ead",
   "metadata": {},
   "source": [
    "## Question 4\n",
    "What is the average op_area per center_type"
   ]
  },
  {
   "cell_type": "code",
   "execution_count": 82,
   "id": "8ff71184",
   "metadata": {},
   "outputs": [
    {
     "name": "stdout",
     "output_type": "stream",
     "text": [
      "+-----------+------------------+\n",
      "|center_type|   Average_op_area|\n",
      "+-----------+------------------+\n",
      "|     TYPE_C|3.1578947368421044|\n",
      "|     TYPE_B|4.7733333333333325|\n",
      "|     TYPE_A| 4.076744186046512|\n",
      "+-----------+------------------+\n",
      "\n"
     ]
    }
   ],
   "source": [
    "fulfilment_center_data.createOrReplaceTempView(\"fulfilment_center_table\") \n",
    "spark.sql(\"select center_type, avg(op_area) Average_op_area from fulfilment_center_table group by center_type\").show()"
   ]
  },
  {
   "cell_type": "markdown",
   "id": "b9274b07",
   "metadata": {},
   "source": [
    "## Question 5\n",
    "Which center_type had the highest revenue? (Revenue is total sum of\n",
    "checkout_price*num_orders)"
   ]
  },
  {
   "cell_type": "code",
   "execution_count": 83,
   "id": "09c234d1",
   "metadata": {},
   "outputs": [
    {
     "name": "stdout",
     "output_type": "stream",
     "text": [
      "+-----------+-------------------+\n",
      "|center_type|            Revenue|\n",
      "+-----------+-------------------+\n",
      "|     TYPE_A|7.276203201869771E9|\n",
      "+-----------+-------------------+\n",
      "only showing top 1 row\n",
      "\n"
     ]
    }
   ],
   "source": [
    "spark.sql(\"\"\"select a.center_type, sum(b.checkout_price * b.num_orders) as Revenue\n",
    "from fulfilment_center_table a\n",
    "left join orders_table b\n",
    "on trim(a.center_id) = trim(b.center_id)\n",
    "group by center_type\n",
    "order by Revenue desc\"\"\").show(1)"
   ]
  },
  {
   "cell_type": "markdown",
   "id": "0c53d79d",
   "metadata": {},
   "source": [
    "## Question 6\n",
    "Which is the top ordered cuisine in terms of num_orders?"
   ]
  },
  {
   "cell_type": "code",
   "execution_count": 87,
   "id": "72f93c65",
   "metadata": {},
   "outputs": [
    {
     "name": "stdout",
     "output_type": "stream",
     "text": [
      "+-------+------------+\n",
      "|cuisine|No_Of_Orders|\n",
      "+-------+------------+\n",
      "|Italian|    17166334|\n",
      "+-------+------------+\n",
      "only showing top 1 row\n",
      "\n"
     ]
    }
   ],
   "source": [
    "spark.sql(\n",
    "\"\"\"select cuisine, sum(num_orders) No_Of_Orders\n",
    "from meal_table a\n",
    "left join orders_table b\n",
    "on a.meal_id = b.meal_id\n",
    "group by cuisine\n",
    "order by No_Of_Orders desc\"\"\").show(1)"
   ]
  },
  {
   "cell_type": "markdown",
   "id": "03312174",
   "metadata": {},
   "source": [
    "## Question 7\n",
    "\n",
    "What are the num_orders per cuisine per week?"
   ]
  },
  {
   "cell_type": "code",
   "execution_count": 88,
   "id": "e38322d9",
   "metadata": {},
   "outputs": [
    {
     "name": "stdout",
     "output_type": "stream",
     "text": [
      "+-----------+------------+----+\n",
      "|    cuisine|Total_Orders|week|\n",
      "+-----------+------------+----+\n",
      "|Continental|       30678|  61|\n",
      "|       Thai|      255566|  51|\n",
      "|       Thai|      300860|  48|\n",
      "|Continental|      163067|  40|\n",
      "|     Indian|      175317|   1|\n",
      "|    Italian|      595946|  32|\n",
      "|Continental|      146020|   1|\n",
      "|Continental|       82776|  59|\n",
      "|    Italian|      291732|  33|\n",
      "|Continental|      133504|  54|\n",
      "|     Indian|      171557|  30|\n",
      "|    Italian|      228836|   1|\n",
      "|Continental|       74798|  24|\n",
      "|     Indian|      338423|  45|\n",
      "|Continental|      289173|  52|\n",
      "|    Italian|      277871|  46|\n",
      "|    Italian|      171341|   7|\n",
      "|       Thai|      207946|  28|\n",
      "|     Indian|      140576|  36|\n",
      "|Continental|      156051|  10|\n",
      "+-----------+------------+----+\n",
      "only showing top 20 rows\n",
      "\n"
     ]
    }
   ],
   "source": [
    "spark.sql(\n",
    "\"\"\"select a.cuisine, sum(b.num_orders) Total_Orders, b.week\n",
    "from meal_table a\n",
    "left join orders_table b\n",
    "on a.meal_id = b.meal_id\n",
    "group by a.cuisine, b.week \"\"\").show()"
   ]
  },
  {
   "cell_type": "markdown",
   "id": "1455e664",
   "metadata": {},
   "source": [
    "## Question 8\n",
    " Which center_id gave the highest number of discounts? (Discount is considered\n",
    "when checkout_price is less than base_price)"
   ]
  },
  {
   "cell_type": "code",
   "execution_count": 89,
   "id": "1a499f93",
   "metadata": {},
   "outputs": [
    {
     "name": "stdout",
     "output_type": "stream",
     "text": [
      "+---------+--------------+\n",
      "|center_id|Discount_count|\n",
      "+---------+--------------+\n",
      "|       13|          1509|\n",
      "+---------+--------------+\n",
      "only showing top 1 row\n",
      "\n"
     ]
    }
   ],
   "source": [
    "spark.sql(\"\"\"select center_id, count(*) as Discount_count\n",
    "            from orders_table \n",
    "            where checkout_price < base_price\n",
    "            group by center_id \n",
    "            order by Discount_count desc\n",
    "          \"\"\").show(1)"
   ]
  },
  {
   "cell_type": "markdown",
   "id": "44eb0c79",
   "metadata": {},
   "source": [
    "## THANK YOU!"
   ]
  },
  {
   "cell_type": "code",
   "execution_count": null,
   "id": "b08a8673",
   "metadata": {},
   "outputs": [],
   "source": []
  }
 ],
 "metadata": {
  "kernelspec": {
   "display_name": "Python 3 (ipykernel)",
   "language": "python",
   "name": "python3"
  },
  "language_info": {
   "codemirror_mode": {
    "name": "ipython",
    "version": 3
   },
   "file_extension": ".py",
   "mimetype": "text/x-python",
   "name": "python",
   "nbconvert_exporter": "python",
   "pygments_lexer": "ipython3",
   "version": "3.9.12"
  }
 },
 "nbformat": 4,
 "nbformat_minor": 5
}
